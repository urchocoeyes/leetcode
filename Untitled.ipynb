{
 "cells": [
  {
   "cell_type": "code",
   "execution_count": null,
   "id": "0c2c048d-d42d-4f3a-aff3-115c48b4add4",
   "metadata": {},
   "outputs": [],
   "source": []
  }
 ],
 "metadata": {
  "kernelspec": {
   "display_name": "",
   "name": ""
  },
  "language_info": {
   "name": ""
  }
 },
 "nbformat": 4,
 "nbformat_minor": 5
}
